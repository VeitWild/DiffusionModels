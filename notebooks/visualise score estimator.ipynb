{
 "cells": [
  {
   "cell_type": "code",
   "execution_count": 16,
   "id": "a61b4061",
   "metadata": {},
   "outputs": [],
   "source": [
    "import sys\n",
    "sys.path.append(\"/home/vdwild/Code/DiffusionModels\")\n",
    "import optax\n",
    "import numpy\n",
    "import matplotlib.pylpot as plt\n",
    "import jax.numpy as jnp\n",
    "#from models.score_function import score_function\n",
    "from data import GMM, gmm\n",
    "from flax.training import train_state, checkpoints\n"
   ]
  },
  {
   "cell_type": "code",
   "execution_count": null,
   "id": "cc1fe189",
   "metadata": {},
   "outputs": [],
   "source": [
    "#Initialise Model\n",
    "hidden = jnp.array([10,10])\n",
    "model = score_function(num_hidden=hidden, num_outputs=2)"
   ]
  },
  {
   "cell_type": "code",
   "execution_count": 23,
   "id": "671677b2",
   "metadata": {},
   "outputs": [
    {
     "ename": "NameError",
     "evalue": "name 'model' is not defined",
     "output_type": "error",
     "traceback": [
      "\u001b[0;31m---------------------------------------------------------------------------\u001b[0m",
      "\u001b[0;31mNameError\u001b[0m                                 Traceback (most recent call last)",
      "Cell \u001b[0;32mIn[23], line 7\u001b[0m\n\u001b[1;32m      1\u001b[0m loaded_model_state \u001b[38;5;241m=\u001b[39m checkpoints\u001b[38;5;241m.\u001b[39mrestore_checkpoint(\n\u001b[1;32m      2\u001b[0m                                              ckpt_dir\u001b[38;5;241m=\u001b[39m\u001b[38;5;124m'\u001b[39m\u001b[38;5;124mCode/DiffusionModels/models/my_checkpoints/\u001b[39m\u001b[38;5;124m'\u001b[39m, \u001b[38;5;66;03m# Folder with the checkpoints\u001b[39;00m\n\u001b[1;32m      3\u001b[0m                                             \u001b[38;5;66;03m#  target=model_state,   # (optional) matching object to rebuild state in\u001b[39;00m\n\u001b[1;32m      4\u001b[0m                                             target \u001b[38;5;241m=\u001b[39m \u001b[38;5;28;01mNone\u001b[39;00m,\n\u001b[1;32m      5\u001b[0m                                              prefix\u001b[38;5;241m=\u001b[39m\u001b[38;5;124m'\u001b[39m\u001b[38;5;124mmy_model\u001b[39m\u001b[38;5;124m'\u001b[39m  \u001b[38;5;66;03m# Checkpoint file name prefix\u001b[39;00m\n\u001b[1;32m      6\u001b[0m                                             )\n\u001b[0;32m----> 7\u001b[0m score_estimator \u001b[38;5;241m=\u001b[39m model\u001b[38;5;241m.\u001b[39mbind(loaded_model_state\u001b[38;5;241m.\u001b[39mparams)\n",
      "\u001b[0;31mNameError\u001b[0m: name 'model' is not defined"
     ]
    }
   ],
   "source": [
    "loaded_model_state = checkpoints.restore_checkpoint(\n",
    "                                             ckpt_dir='Code/DiffusionModels/models/my_checkpoints/', # Folder with the checkpoints\n",
    "                                            #  target=model_state,   # (optional) matching object to rebuild state in\n",
    "                                            target = None,\n",
    "                                             prefix='my_model'  # Checkpoint file name prefix\n",
    "                                            )\n",
    "score_estimator = loaded_model_state.bind(loaded_model_state.params)\n",
    "\n"
   ]
  },
  {
   "cell_type": "code",
   "execution_count": null,
   "id": "621a9afe",
   "metadata": {},
   "outputs": [],
   "source": [
    "num = 20\n",
    "means = gmm.means\n",
    "sd = 1 \n",
    "\n",
    "mean_min = means.min(axis=1)\n",
    "mean_max = means.max(axis=1)\n",
    "\n",
    "x1_range = np.linspace(mean_min[0]-sd*3,mean_max[0]+sd*3,num=num)\n",
    "x2_range = np.linspace(mean_min[1]-sd*3,mean_max[1]+sd*3,num=num)\n",
    "x1, x2 = np.meshgrid(x1_range,x2_range)\n",
    "\n",
    "X = np.concatenate( (x1.reshape((num**2,1)), x2.reshape((num**2,1))) ,axis=1) #Num**2 x 2\n",
    "values = score_estimator(X)\n",
    "\n",
    "plt.quiver(x1, x2, values[:,0], values[:,1], color='b')\n",
    "plt.title('Score Function Estimator')\n",
    "plt.show()"
   ]
  }
 ],
 "metadata": {
  "kernelspec": {
   "display_name": "Python 3 (ipykernel)",
   "language": "python",
   "name": "python3"
  },
  "language_info": {
   "codemirror_mode": {
    "name": "ipython",
    "version": 3
   },
   "file_extension": ".py",
   "mimetype": "text/x-python",
   "name": "python",
   "nbconvert_exporter": "python",
   "pygments_lexer": "ipython3",
   "version": "3.11.3"
  }
 },
 "nbformat": 4,
 "nbformat_minor": 5
}
